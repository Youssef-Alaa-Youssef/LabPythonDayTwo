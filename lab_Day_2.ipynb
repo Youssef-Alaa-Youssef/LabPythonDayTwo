{
 "cells": [
  {
   "cell_type": "code",
   "execution_count": 1,
   "metadata": {},
   "outputs": [
    {
     "name": "stdout",
     "output_type": "stream",
     "text": [
      "Lab Day Two\n"
     ]
    }
   ],
   "source": [
    "print(\"Lab Day Two\")"
   ]
  },
  {
   "cell_type": "code",
   "execution_count": 30,
   "metadata": {},
   "outputs": [
    {
     "name": "stdout",
     "output_type": "stream",
     "text": [
      "[2, 3, 4, 5, 6, 7, 8, 9]\n"
     ]
    }
   ],
   "source": [
    "# Write a function that accepts two arguments (length, start) to generate an array of a specific length \n",
    "# filled with integer numbers increased by onefrom start.\n",
    "\n",
    "def increaseFromStart(start, length):\n",
    "    arr=[]\n",
    "    for i in range(length):\n",
    "        arr.append(start)\n",
    "        start+=1\n",
    "    return arr\n",
    "print(increaseFromStart(2,8))"
   ]
  },
  {
   "cell_type": "code",
   "execution_count": 19,
   "metadata": {},
   "outputs": [
    {
     "name": "stdout",
     "output_type": "stream",
     "text": [
      "FizzBuzz\n"
     ]
    }
   ],
   "source": [
    "#write a function that takes a number as an argument and if the numberdivisible by 3 return \"Fizz\" and if it is divisible by 5 return \"buzz\" and \n",
    "# if is isdivisible by both return \"FizzBuzz\"\n",
    "\n",
    "def visble(num):\n",
    "    if num % 3 == 0 and num % 5 == 0:\n",
    "        print(\"FizzBuzz\") \n",
    "    \n",
    "    elif num % 5 == 0:\n",
    "        print(\"buzz\")\n",
    "    elif num % 3 == 0:\n",
    "        print(\"Fizz\")\n",
    "    else:\n",
    "        print(\"Not divible by 3 and 5\")\n",
    "visble(60)\n",
    "\n",
    "    "
   ]
  },
  {
   "cell_type": "code",
   "execution_count": 51,
   "metadata": {},
   "outputs": [
    {
     "data": {
      "text/plain": [
       "'fessuoY'"
      ]
     },
     "execution_count": 51,
     "metadata": {},
     "output_type": "execute_result"
    }
   ],
   "source": [
    "# Write a function which has an input of a string from user then it will return the same string reversed.\n",
    "\n",
    "def takeStr(inp):\n",
    "    return inp[::-1]\n",
    "\n",
    "\n",
    "takeStr(\"Youssef\")\n"
   ]
  },
  {
   "cell_type": "code",
   "execution_count": 17,
   "metadata": {},
   "outputs": [
    {
     "name": "stdout",
     "output_type": "stream",
     "text": [
      "Your Name is youssef and your Email Address is youssef@gmail.com\n"
     ]
    }
   ],
   "source": [
    "# Ask the user for his name then confirm that he has entered  his name(not an empty string/integers). then proceed \n",
    "#  to ask him for his email andprint all this data(Bonus) check if it is a valid email or not\n",
    "\n",
    "import re\n",
    "\n",
    "regex = re.compile(r'([A-Za-z0-9]+[.-_])*[A-Za-z0-9]+@[A-Za-z0-9-]+(\\.[A-Z|a-z]{2,})+')\n",
    "\n",
    "def info (name):\n",
    "    # isinstance\n",
    "    if type(name) == str:\n",
    "        while True:\n",
    "            email =  input(\"Enter Your Email Address : \")\n",
    "            if re.fullmatch(regex, email):\n",
    "                print(f\"Your Name is {name} and your Email Address is {email}\")\n",
    "                break\n",
    "    else:\n",
    "        print(\"Name must be string\") \n",
    "\n",
    "info(\"youssef\")\n",
    "\n",
    "# info(12)"
   ]
  },
  {
   "cell_type": "code",
   "execution_count": 142,
   "metadata": {},
   "outputs": [
    {
     "name": "stdout",
     "output_type": "stream",
     "text": [
      "ahm\n"
     ]
    }
   ],
   "source": [
    "# abdulrahman\n",
    "name = 'ahmed'\n",
    "c = name[0]\n",
    "longTerm = ''\n",
    "\n",
    "\n",
    "for charName in range(1,len(name)):\n",
    "     if ord(c) < ord(name[charName]):\n",
    "         longTerm+=c\n",
    "         c = name[charName]\n",
    "            \n",
    "longTerm+=c\n",
    "          \n",
    "print(longTerm)\n",
    "\n",
    "\n",
    "\n"
   ]
  },
  {
   "cell_type": "code",
   "execution_count": 9,
   "metadata": {},
   "outputs": [
    {
     "name": "stdout",
     "output_type": "stream",
     "text": [
      "sum => 39\n",
      "Length => 5\n",
      "The Average is =>7.8\n"
     ]
    }
   ],
   "source": [
    "arr =[]\n",
    "sum = 0\n",
    "while True:\n",
    "    num = input(\"Enter Numbers : \")\n",
    "    if not num.isnumeric():\n",
    "        if num == \"done\":\n",
    "            break\n",
    "        num = input(\"Enter Only numbers : \")\n",
    "\n",
    "    elif num.isnumeric():\n",
    "        arr.append(num)\n",
    "    else:\n",
    "        num = input(\"Do you want to enter another number : \")\n",
    "# print(type(arr[1]))\n",
    "for num in arr:\n",
    "    sum+=int(num)\n",
    "length = len(arr)\n",
    "print(f\"sum => {sum}\")\n",
    "print(f\"Length => {length}\")\n",
    "print(f\"The Average is =>{sum/length}\")"
   ]
  },
  {
   "cell_type": "code",
   "execution_count": 22,
   "metadata": {},
   "outputs": [],
   "source": [
    "# Q7 hangman\n",
    "import random\n",
    "\n",
    "lst =['youssef','amr','david','kareem','alaa']\n",
    "\n",
    "def gussFun():\n",
    "    guess = input(\"Enter Your Guess : \")\n",
    "    if random.choice(lst) == guess:\n",
    "        print(random.choice(lst),guess)\n",
    "        print(guess,\"is correct Congratulations!\")\n",
    "    else:\n",
    "        # print(guess,\"is incorrect Try Again!\")\n",
    "        guess = input(\"Enter Your Guess : \")\n",
    "\n",
    "gussFun()    \n"
   ]
  },
  {
   "cell_type": "code",
   "execution_count": 2,
   "metadata": {},
   "outputs": [
    {
     "name": "stdout",
     "output_type": "stream",
     "text": [
      "Hello youssef start the play\n",
      "Guess the characters\n",
      "_\n",
      "_\n",
      "_\n",
      "_\n",
      "Wrong\n",
      "You have 6 more guesses\n",
      "_\n",
      "_\n",
      "_\n",
      "_\n",
      "Wrong\n",
      "You have 5 more guesses\n",
      "_\n",
      "_\n",
      "_\n",
      "_\n",
      "Wrong\n",
      "You have 4 more guesses\n",
      "_\n",
      "_\n",
      "_\n",
      "_\n",
      "Wrong\n",
      "You have 3 more guesses\n",
      "_\n",
      "_\n",
      "_\n",
      "_\n",
      "Wrong\n",
      "You have 2 more guesses\n",
      "_\n",
      "_\n",
      "_\n",
      "_\n",
      "a\n",
      "_\n",
      "a\n",
      "a\n",
      "Wrong\n",
      "You have 1 more guesses\n",
      "a\n",
      "_\n",
      "a\n",
      "a\n",
      "Wrong\n",
      "You have 0 more guesses\n",
      "You Loose\n"
     ]
    }
   ],
   "source": [
    "\n",
    "import random\n",
    "words=['youssef','alaa','kareem']\n",
    "word=random.choice(words)\n",
    "turns=7\n",
    "name=input(\"Enter your name please: \")\n",
    "\n",
    "print(f\"Hello {name} start the play\")\n",
    "\n",
    "print(\"Guess the characters\")\n",
    "guesses = ''\n",
    "\n",
    "while turns > 0:\n",
    "\tfailed = 0\n",
    "\tfor char in word:\n",
    "\t\tif char in guesses:\n",
    "\t\t\tprint(char)\n",
    "\t\telse:\n",
    "\t\t\tprint(\"_\")\n",
    "\t\t\tfailed += 1\n",
    "\n",
    "\tif failed == 0:\n",
    "\t\tprint(\"You Win\")\n",
    "\t\tprint(\"The word is: \", word)\n",
    "\t\tbreak\n",
    "\n",
    "\tguess = input(\"guess a character:\")\n",
    "\n",
    "\tguesses += guess\n",
    "\tif guess not in word:\n",
    "\n",
    "\t\tturns -= 1\n",
    "\t\tprint(\"Wrong\")\n",
    "\t\tprint(f\"You have {turns} more guesses\")\n",
    "\n",
    "\t\tif turns == 0:\n",
    "\t\t\tprint(\"You Loose\")"
   ]
  },
  {
   "cell_type": "code",
   "execution_count": 3,
   "metadata": {},
   "outputs": [
    {
     "name": "stdout",
     "output_type": "stream",
     "text": [
      "/media/youssef-alaa/Local Disk/ITI Lab/Python\n"
     ]
    }
   ],
   "source": [
    "\n",
    "import os \n",
    "print(os.getcwd())"
   ]
  },
  {
   "cell_type": "code",
   "execution_count": null,
   "metadata": {},
   "outputs": [],
   "source": []
  }
 ],
 "metadata": {
  "kernelspec": {
   "display_name": "Python 3",
   "language": "python",
   "name": "python3"
  },
  "language_info": {
   "codemirror_mode": {
    "name": "ipython",
    "version": 3
   },
   "file_extension": ".py",
   "mimetype": "text/x-python",
   "name": "python",
   "nbconvert_exporter": "python",
   "pygments_lexer": "ipython3",
   "version": "3.11.0"
  },
  "orig_nbformat": 4,
  "vscode": {
   "interpreter": {
    "hash": "ead1b95f633dc9c51826328e1846203f51a198c6fb5f2884a80417ba131d4e82"
   }
  }
 },
 "nbformat": 4,
 "nbformat_minor": 2
}
